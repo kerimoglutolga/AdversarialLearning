{
  "nbformat": 4,
  "nbformat_minor": 0,
  "metadata": {
    "colab": {
      "name": "Copy of stylegansikici.ipynb",
      "provenance": [],
      "collapsed_sections": [],
      "machine_shape": "hm",
      "include_colab_link": true
    },
    "kernelspec": {
      "name": "python3",
      "display_name": "Python 3"
    },
    "language_info": {
      "name": "python"
    },
    "accelerator": "GPU"
  },
  "cells": [
    {
      "cell_type": "markdown",
      "metadata": {
        "id": "view-in-github",
        "colab_type": "text"
      },
      "source": [
        "<a href=\"https://colab.research.google.com/github/kerimoglutolga/AdversarialLearning/blob/master/latent_space_fgsm.ipynb\" target=\"_parent\"><img src=\"https://colab.research.google.com/assets/colab-badge.svg\" alt=\"Open In Colab\"/></a>"
      ]
    },
    {
      "cell_type": "code",
      "source": [
        "!git clone https://github.com/NVlabs/stylegan2-ada-pytorch"
      ],
      "metadata": {
        "colab": {
          "base_uri": "https://localhost:8080/"
        },
        "id": "tEddG4umIo0D",
        "outputId": "87495ecd-05f7-44f5-9145-5c1de25ed4df"
      },
      "execution_count": 1,
      "outputs": [
        {
          "output_type": "stream",
          "name": "stdout",
          "text": [
            "fatal: destination path 'stylegan2-ada-pytorch' already exists and is not an empty directory.\n"
          ]
        }
      ]
    },
    {
      "cell_type": "code",
      "source": [
        "cd stylegan2-ada-pytorch"
      ],
      "metadata": {
        "colab": {
          "base_uri": "https://localhost:8080/"
        },
        "id": "sZOPubqhNWME",
        "outputId": "641b3f3c-1c63-4198-9f48-9ce4e33bfda1"
      },
      "execution_count": 2,
      "outputs": [
        {
          "output_type": "stream",
          "name": "stdout",
          "text": [
            "/content/stylegan2-ada-pytorch\n"
          ]
        }
      ]
    },
    {
      "cell_type": "code",
      "source": [
        "!python legacy.py \\\n",
        "    --source=https://nvlabs-fi-cdn.nvidia.com/stylegan2-ada-pytorch/pretrained/cifar10.pkl\\\n",
        "    --dest=cifar10.pkl"
      ],
      "metadata": {
        "colab": {
          "base_uri": "https://localhost:8080/"
        },
        "id": "IRJJHhpdNo2k",
        "outputId": "260467de-ae18-44fb-cf96-fa4d343ba04e"
      },
      "execution_count": 3,
      "outputs": [
        {
          "output_type": "stream",
          "name": "stdout",
          "text": [
            "Loading \"https://nvlabs-fi-cdn.nvidia.com/stylegan2-ada-pytorch/pretrained/cifar10.pkl\"...\n",
            "Saving \"cifar10.pkl\"...\n",
            "Done.\n"
          ]
        }
      ]
    },
    {
      "cell_type": "code",
      "source": [
        "from legacy import load_network_pkl\n",
        "import dnnlib\n",
        "import torch\n",
        "import numpy as np\n",
        "import PIL.Image\n",
        "import torch \n",
        "import torch.nn as nn \n",
        "import torch.nn.functional as F \n",
        "from torch.utils.data import Dataset\n",
        "from torchvision import datasets\n",
        "from torchvision.datasets import MNIST\n",
        "from torchvision import transforms\n",
        "import matplotlib.pyplot as plt\n",
        "import numpy as np \n",
        "import torchvision"
      ],
      "metadata": {
        "id": "kBrkwLfTN-ns"
      },
      "execution_count": 4,
      "outputs": []
    },
    {
      "cell_type": "code",
      "source": [
        "f = open(\"cifar10.pkl\", \"rb\")"
      ],
      "metadata": {
        "id": "rHfqa1umOaHK"
      },
      "execution_count": 30,
      "outputs": []
    },
    {
      "cell_type": "code",
      "source": [
        "G = load_network_pkl(f)['G_ema']"
      ],
      "metadata": {
        "id": "cdwFRAGAOhKb"
      },
      "execution_count": 31,
      "outputs": []
    },
    {
      "cell_type": "code",
      "source": [
        "cd .."
      ],
      "metadata": {
        "colab": {
          "base_uri": "https://localhost:8080/"
        },
        "id": "Q8dxYk6qpUpY",
        "outputId": "40eb8e57-31d7-48bd-cd5d-142392a2deaa"
      },
      "execution_count": 32,
      "outputs": [
        {
          "output_type": "stream",
          "name": "stdout",
          "text": [
            "/content\n"
          ]
        }
      ]
    },
    {
      "cell_type": "code",
      "source": [
        "!git clone https://github.com/huyvnphan/PyTorch_CIFAR10"
      ],
      "metadata": {
        "colab": {
          "base_uri": "https://localhost:8080/"
        },
        "id": "J_Dqnyyw6gH2",
        "outputId": "85fdc5fd-b1b4-4074-b1e5-dd1a91d77e80"
      },
      "execution_count": 8,
      "outputs": [
        {
          "output_type": "stream",
          "name": "stdout",
          "text": [
            "fatal: destination path 'PyTorch_CIFAR10' already exists and is not an empty directory.\n"
          ]
        }
      ]
    },
    {
      "cell_type": "code",
      "source": [
        "cd PyTorch_CIFAR10"
      ],
      "metadata": {
        "colab": {
          "base_uri": "https://localhost:8080/"
        },
        "id": "B3X9_Dvh6rv9",
        "outputId": "b89fd3ce-100b-4f1b-e328-f8d28ff45469"
      },
      "execution_count": 9,
      "outputs": [
        {
          "output_type": "stream",
          "name": "stdout",
          "text": [
            "/content/PyTorch_CIFAR10\n"
          ]
        }
      ]
    },
    {
      "cell_type": "code",
      "source": [
        "cd cifar10_models"
      ],
      "metadata": {
        "id": "1iGW1X3Ns6wl"
      },
      "execution_count": null,
      "outputs": []
    },
    {
      "cell_type": "code",
      "source": [
        "!gdown https://drive.google.com/u/0/uc?id=17fmN8eQdLpq2jIMQ_X0IXDPXfI9oVWgq"
      ],
      "metadata": {
        "id": "oaV0_P_YluQ0",
        "outputId": "bc8b77df-44bd-4291-b324-31f729bc3cf4",
        "colab": {
          "base_uri": "https://localhost:8080/"
        }
      },
      "execution_count": 10,
      "outputs": [
        {
          "output_type": "stream",
          "name": "stdout",
          "text": [
            "Downloading...\n",
            "From: https://drive.google.com/u/0/uc?id=17fmN8eQdLpq2jIMQ_X0IXDPXfI9oVWgq\n",
            "To: /content/PyTorch_CIFAR10/state_dicts.zip\n",
            "100% 979M/979M [00:04<00:00, 242MB/s]\n"
          ]
        }
      ]
    },
    {
      "cell_type": "code",
      "source": [
        "!unzip state_dicts.zip "
      ],
      "metadata": {
        "id": "mdCkGaRpmpJX",
        "outputId": "305bf12f-4ee9-42f0-e2dc-7ba19c76352a",
        "colab": {
          "base_uri": "https://localhost:8080/"
        }
      },
      "execution_count": 11,
      "outputs": [
        {
          "output_type": "stream",
          "name": "stdout",
          "text": [
            "Archive:  state_dicts.zip\n",
            "   creating: state_dicts/\n",
            "  inflating: state_dicts/googlenet.pt  \n",
            "  inflating: state_dicts/vgg11_bn.pt  \n",
            "  inflating: state_dicts/vgg13_bn.pt  \n",
            "  inflating: state_dicts/resnet18.pt  \n",
            "  inflating: state_dicts/vgg19_bn.pt  \n",
            "  inflating: state_dicts/vgg16_bn.pt  \n",
            "  inflating: state_dicts/mobilenet_v2.pt  \n",
            "  inflating: state_dicts/inception_v3.pt  \n",
            "  inflating: state_dicts/densenet121.pt  \n",
            "  inflating: state_dicts/resnet34.pt  \n",
            "  inflating: state_dicts/densenet161.pt  \n",
            "  inflating: state_dicts/densenet169.pt  \n",
            "  inflating: state_dicts/resnet50.pt  \n"
          ]
        }
      ]
    },
    {
      "cell_type": "code",
      "source": [
        "from cifar10_models.mobilenetv2 import mobilenet_v2\n",
        "my_model = mobilenet_v2(pretrained=True).cpu()"
      ],
      "metadata": {
        "id": "uyCkBRBt7N2z"
      },
      "execution_count": 54,
      "outputs": []
    },
    {
      "cell_type": "code",
      "source": [
        "classifier = my_model\n",
        "_ = classifier.eval()"
      ],
      "metadata": {
        "id": "rhPVudS4Ub6n"
      },
      "execution_count": 55,
      "outputs": []
    },
    {
      "cell_type": "code",
      "source": [
        "batch_size = 64\n",
        "transform = transforms.Compose(\n",
        "    [transforms.ToTensor(),])\n",
        "trainset = torchvision.datasets.CIFAR10(root='./data', train=True,\n",
        "                                        download=True, transform=transform)\n",
        "train_loader = torch.utils.data.DataLoader(trainset, batch_size=batch_size,\n",
        "                                          shuffle=True, num_workers=2)\n",
        "\n",
        "testset = torchvision.datasets.CIFAR10(root='./data', train=False,\n",
        "                                       download=True, transform=transform)\n",
        "test_loader = torch.utils.data.DataLoader(testset, batch_size=batch_size,\n",
        "                                         shuffle=False, num_workers=2)"
      ],
      "metadata": {
        "colab": {
          "base_uri": "https://localhost:8080/"
        },
        "id": "jMlF-5Dda2Yq",
        "outputId": "bf972d80-c34d-47e4-882e-272d5dc605a8"
      },
      "execution_count": 18,
      "outputs": [
        {
          "output_type": "stream",
          "name": "stdout",
          "text": [
            "Files already downloaded and verified\n",
            "Files already downloaded and verified\n"
          ]
        }
      ]
    },
    {
      "cell_type": "code",
      "source": [
        "import functools\n",
        "import matplotlib.pyplot as plt\n",
        "G.synthesis.forward = functools.partial(G.synthesis.forward, force_fp32=True)"
      ],
      "metadata": {
        "id": "SCWQ8MOLqYqg"
      },
      "execution_count": 34,
      "outputs": []
    },
    {
      "cell_type": "code",
      "source": [
        "def fgsm_attack(image, epsilon, data_grad):\n",
        "    # Collect the element-wise sign of the data gradient\n",
        "    sign_data_grad = data_grad.sign()\n",
        "    # Create the perturbed image by adjusting each pixel of the input image\n",
        "    perturbed_image = image + epsilon*sign_data_grad\n",
        "\n",
        "    # Adding clipping to maintain [0,1] range\n",
        "    # Return the perturbed image\n",
        "    return perturbed_image"
      ],
      "metadata": {
        "id": "yy1nT4mQtnRj"
      },
      "execution_count": 106,
      "outputs": []
    },
    {
      "cell_type": "code",
      "source": [
        "def label_maker(class_idx):\n",
        "  label = torch.zeros([1, G.c_dim])\n",
        "  if G.c_dim != 0:\n",
        "    label[:, class_idx] = 1\n",
        "  return label"
      ],
      "metadata": {
        "id": "2WUNUmegxSop"
      },
      "execution_count": 146,
      "outputs": []
    },
    {
      "cell_type": "code",
      "source": [
        "class_idx = 0\n",
        "label = torch.zeros([1, G.c_dim])\n",
        "loss_fn = nn.CrossEntropyLoss()\n",
        "if G.c_dim != 0:\n",
        "  label[:, class_idx] = 1\n",
        "G.zero_grad()\n",
        "z = torch.randn((1,512))\n",
        "z.requires_grad = True\n",
        "w = G.mapping(z=z,c=label)\n",
        "img = G.synthesis(w, noise_mode=\"random\")\n",
        "loss = loss_fn(classifier(img), label)\n",
        "w.retain_grad()\n",
        "loss.backward()\n",
        "w_grad = w.grad.data\n",
        "perturbed_w = fgsm_attack(w, 0.05, w_grad)\n",
        "perturbed_img = G.synthesis(perturbed_w, noise_mode=\"random\")\n",
        "print(nn.functional.softmax(classifier(img)).data.numpy(), nn.functional.softmax(classifier(perturbed_img)).data.numpy())\n",
        "print(torch.argmax(classifier(img), dim=1).data.numpy(), torch.argmax(classifier(perturbed_img), dim=1).data.numpy())\n",
        "img_print = (img.permute(0, 2, 3, 1) * 127.5 + 128).clamp(0, 255).to(torch.uint8)\n",
        "perturbed_img_print = (perturbed_img.permute(0, 2, 3, 1) * 127.5 + 128).clamp(0, 255).to(torch.uint8)\n",
        "\n",
        "plt.imshow(img_print[0])"
      ],
      "metadata": {
        "colab": {
          "base_uri": "https://localhost:8080/",
          "height": 395
        },
        "id": "0b4Hxo60pyk0",
        "outputId": "755035aa-488f-4f11-e1ea-79949b7037eb"
      },
      "execution_count": 186,
      "outputs": [
        {
          "output_type": "stream",
          "name": "stdout",
          "text": [
            "[[0.01114473 0.00419384 0.9305683  0.00863308 0.01593325 0.00658916\n",
            "  0.00772051 0.00573066 0.0050765  0.00440992]] [[0.9753422  0.00236722 0.00419011 0.00262256 0.00227615 0.00198099\n",
            "  0.00208477 0.00219238 0.00407463 0.00286897]]\n",
            "[2] [0]\n"
          ]
        },
        {
          "output_type": "stream",
          "name": "stderr",
          "text": [
            "/usr/local/lib/python3.7/dist-packages/ipykernel_launcher.py:17: UserWarning: Implicit dimension choice for softmax has been deprecated. Change the call to include dim=X as an argument.\n"
          ]
        },
        {
          "output_type": "execute_result",
          "data": {
            "text/plain": [
              "<matplotlib.image.AxesImage at 0x7fd0813c6ad0>"
            ]
          },
          "metadata": {},
          "execution_count": 186
        },
        {
          "output_type": "display_data",
          "data": {
            "image/png": "[encoded data removed]",
            "text/plain": [
              "<Figure size 432x288 with 1 Axes>"
            ]
          },
          "metadata": {
            "needs_background": "light"
          }
        }
      ]
    },
    {
      "cell_type": "code",
      "source": [
        "plt.imshow(perturbed_img_print[0])"
      ],
      "metadata": {
        "id": "lgovpt0mz3zj",
        "outputId": "a8b08593-cc4e-43f8-caa1-2df83596aa2e",
        "colab": {
          "base_uri": "https://localhost:8080/",
          "height": 285
        }
      },
      "execution_count": 187,
      "outputs": [
        {
          "output_type": "execute_result",
          "data": {
            "text/plain": [
              "<matplotlib.image.AxesImage at 0x7fd081383c10>"
            ]
          },
          "metadata": {},
          "execution_count": 187
        },
        {
          "output_type": "display_data",
          "data": {
            "image/png": "[encoded data removed]",
            "text/plain": [
              "<Figure size 432x288 with 1 Axes>"
            ]
          },
          "metadata": {
            "needs_background": "light"
          }
        }
      ]
    },
    {
      "cell_type": "code",
      "source": [
        "\"\"\"\"\n",
        "label = torch.zeros([500, G.c_dim])\n",
        "noise_mode = \"random\"\n",
        "truncation_psi = 1\n",
        "class_idx = 0\n",
        "if G.c_dim != 0:\n",
        "  label[:, class_idx] = 1\n",
        "print(label.shape)\n",
        "with torch.no_grad():\n",
        "  z = torch.from_numpy(np.random.randn(500, G.z_dim))\n",
        "  img = (G(z, label, truncation_psi=truncation_psi, noise_mode=noise_mode, force_fp32=True) + 1) * 0.5\n",
        "\n",
        "labels = label\n",
        "imgs = img\n",
        "\n",
        "for class_idx in range(1,10):\n",
        "  label = torch.zeros([500, G.c_dim])\n",
        "  noise_mode = \"random\"\n",
        "  truncation_psi = 1\n",
        "  #class_idx = 7\n",
        "  if G.c_dim != 0:\n",
        "    label[:, class_idx] = 1\n",
        "  print(label.shape)\n",
        "  with torch.no_grad():\n",
        "    z = torch.from_numpy(np.random.randn(500, G.z_dim))\n",
        "    img = (G(z, label, truncation_psi=truncation_psi, noise_mode=noise_mode, force_fp32=True) + 1) * 0.5\n",
        "    labels = torch.vstack((labels, label))\n",
        "    imgs = torch.vstack((imgs, img)) \n",
        "\n",
        "\n",
        "  img_new = (img.permute(0, 2, 3, 1) * 127.5 + 128).clamp(0, 255).to(torch.uint8).cpu().numpy()\n",
        "\"\"\"\n"
      ],
      "metadata": {
        "id": "-7aguY1vS8cT"
      },
      "execution_count": null,
      "outputs": []
    },
    {
      "cell_type": "code",
      "source": [
        "for i,(x,y) in enumerate(train_loader2):\n",
        "  image = x\n",
        "  img_new = (image.permute(0, 2, 3, 1)*255).to(torch.uint8).cpu().numpy()\n",
        "  plt.imshow(img_new[0])\n",
        "  print(y)\n",
        "  print(torch.argmax(classifier(image.cuda()),dim=1))\n",
        "  if i>0:break"
      ],
      "metadata": {
        "id": "a5UEXW43ux_5"
      },
      "execution_count": null,
      "outputs": []
    },
    {
      "cell_type": "code",
      "source": [
        "label = torch.zeros([10, G.c_dim])\n",
        "noise_mode = \"random\"\n",
        "truncation_psi = 1\n",
        "class_idx = 4\n",
        "if G.c_dim != 0:\n",
        "  label[:, class_idx] = 1\n",
        "print(label.shape)\n",
        "with torch.no_grad():\n",
        "  z = torch.from_numpy(np.random.randn(10, G.z_dim))\n",
        "  img = G(z, label, truncation_psi=truncation_psi, noise_mode=noise_mode, force_fp32=True)\n",
        "img_new = (img.permute(0, 2, 3, 1) * 127.5 + 128).clamp(0, 255).to(torch.uint8).cpu().numpy()\n",
        "plt.imshow(img_new[0])\n",
        "torch.argmax(nn.functional.softmax(classifier((img.cuda()+1)/2), dim=1), dim=1)"
      ],
      "metadata": {
        "id": "UvMEp3LXquIv"
      },
      "execution_count": null,
      "outputs": []
    },
    {
      "cell_type": "code",
      "source": [
        "labels.shape"
      ],
      "metadata": {
        "id": "RTlJMgrYqaIU"
      },
      "execution_count": null,
      "outputs": []
    },
    {
      "cell_type": "code",
      "source": [
        "def accuracy(net):\n",
        "  correct = 0\n",
        "  total = 0\n",
        "  with torch.no_grad():\n",
        "      for x,y in test_loader:\n",
        "          images, labels = x.cuda()*2-1, y.cuda()\n",
        "\n",
        "          outputs = net((images))\n",
        "          predicted = torch.argmax(outputs.data, 1)\n",
        "\n",
        "          total += labels.size(0)\n",
        "          correct += (predicted == labels).sum().item()\n",
        "  print('Accuracy: %s %%' % (100 * correct / total))\n",
        "\n",
        "accuracy(classifier)"
      ],
      "metadata": {
        "id": "KroALXaAco8g"
      },
      "execution_count": null,
      "outputs": []
    },
    {
      "cell_type": "code",
      "source": [
        "class cifargen(Dataset):\n",
        "    \"\"\"Face Landmarks dataset.\"\"\"\n",
        "\n",
        "    def __init__(self):\n",
        "        \"\"\"\n",
        "        Args:\n",
        "            csv_file (string): Path to the csv file with annotations.\n",
        "            root_dir (string): Directory with all the images.\n",
        "            transform (callable, optional): Optional transform to be applied\n",
        "                on a sample.\n",
        "        \"\"\"\n",
        "        self.imgs = imgs\n",
        "        self.labels = labels\n",
        "\n",
        "    def __len__(self):\n",
        "        return len(self.labels)\n",
        "\n",
        "    def __getitem__(self, idx):\n",
        "        if torch.is_tensor(idx):\n",
        "            idx = idx.tolist()\n",
        "\n",
        "\n",
        "        return self.imgs[idx], self.labels[idx]"
      ],
      "metadata": {
        "id": "CwODihBNkmo-"
      },
      "execution_count": null,
      "outputs": []
    },
    {
      "cell_type": "code",
      "source": [
        "dataset = cifargen()\n",
        "loader = torch.utils.data.DataLoader(dataset, batch_size=64,\n",
        "                                         shuffle=True, num_workers=2)"
      ],
      "metadata": {
        "id": "Oq2g-_o1r0xY"
      },
      "execution_count": null,
      "outputs": []
    },
    {
      "cell_type": "code",
      "source": [
        "import torch.utils.data as data_utils\n",
        "\n",
        "train2 = data_utils.TensorDataset(imgs, torch.argmax(labels,dim=1).squeeze(0))\n",
        "train_loader2 = data_utils.DataLoader(train2, batch_size=64, shuffle=True)\n"
      ],
      "metadata": {
        "id": "W2ZJxPmksrQR"
      },
      "execution_count": null,
      "outputs": []
    },
    {
      "cell_type": "code",
      "source": [
        "cd ..\n"
      ],
      "metadata": {
        "id": "PmweEESa6wB9"
      },
      "execution_count": null,
      "outputs": []
    },
    {
      "cell_type": "code",
      "source": [
        "!python train.py --download_weights 1"
      ],
      "metadata": {
        "id": "esDD-SiE6lvI"
      },
      "execution_count": null,
      "outputs": []
    },
    {
      "cell_type": "code",
      "source": [
        "torch.nn.functional.softmax(classifier(imgs[0].unsqueeze(0).cuda()))"
      ],
      "metadata": {
        "id": "amB1FdxG5hqr"
      },
      "execution_count": null,
      "outputs": []
    },
    {
      "cell_type": "code",
      "source": [
        "torch.nn.functional.softmax(classifier(imgs[0:64].cuda()))"
      ],
      "metadata": {
        "id": "5zrARWR55wn2"
      },
      "execution_count": null,
      "outputs": []
    },
    {
      "cell_type": "code",
      "source": [
        "\"\"\"label = torch.zeros([10, G.c_dim])\n",
        "noise_mode = \"random\"\n",
        "truncation_psi = 1\n",
        "class_idx = 7\n",
        "if G.c_dim != 0:\n",
        "  label[:, class_idx] = 1\n",
        "print(label.shape)\n",
        "   \n",
        "\n",
        "\n",
        "z = torch.from_numpy(np.random.randn(10, G.z_dim))\n",
        "img = G(z, label, truncation_psi=truncation_psi, noise_mode=noise_mode, force_fp32=True) \n",
        "img_new = (img.permute(0, 2, 3, 1) * 127.5 + 128).clamp(0, 255).to(torch.uint8).cpu().numpy()\n",
        "plt.imshow(img_new[2])\n",
        "print(label)\n",
        "\n",
        "print(one_hot)\"\"\"\n",
        "\n",
        "epochs = 10\n",
        "lr = 1e-4\n",
        "optimizer = torch.optim.Adam(classifier.parameters(), lr=lr)\n",
        "CELoss = nn.CrossEntropyLoss()\n",
        "\n",
        "print\n",
        "for epoch in range(epochs):\n",
        "  for i, (x,y) in enumerate(loader):\n",
        "    x,y = x.cuda(), y.cuda()\n",
        "    print(x.shape)\n",
        "    print(y.shape)\n",
        "    break\n",
        "    optimizer.zero_grad()\n",
        "    fool_loss = CELoss(classifier(x), torch.argmax(y, dim=1))\n",
        "    loss = fool_loss \n",
        "    loss.backward()\n",
        "  \n",
        "    optimizer.step()\n",
        "    if i%100==0:\n",
        "      print('Epoch [{}/{}], Step [{}/{}], Loss: {}'.format(epoch+1, epochs, i+1, len(train_loader), loss.item()))"
      ],
      "metadata": {
        "id": "F0JTShdKWR2v"
      },
      "execution_count": null,
      "outputs": []
    },
    {
      "cell_type": "code",
      "source": [
        ""
      ],
      "metadata": {
        "id": "2ZryH8dOgHPq"
      },
      "execution_count": null,
      "outputs": []
    }
  ]
}