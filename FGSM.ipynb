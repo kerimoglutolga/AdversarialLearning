{
  "nbformat": 4,
  "nbformat_minor": 5,
  "metadata": {
    "kernelspec": {
      "display_name": "Python 3",
      "language": "python",
      "name": "python3"
    },
    "language_info": {
      "codemirror_mode": {
        "name": "ipython",
        "version": 3
      },
      "file_extension": ".py",
      "mimetype": "text/x-python",
      "name": "python",
      "nbconvert_exporter": "python",
      "pygments_lexer": "ipython3",
      "version": "3.7.10"
    },
    "colab": {
      "name": "FGSM.ipynb",
      "provenance": []
    },
    "accelerator": "GPU"
  },
  "cells": [
    {
      "cell_type": "code",
      "metadata": {
        "id": "1uiflfa3DbKn"
      },
      "source": [
        "import torch \n",
        "import torch.nn as nn \n",
        "import torch.nn.functional as F \n",
        "from torch.utils.data import Dataset\n",
        "from torchvision import datasets\n",
        "from torchvision.datasets import MNIST\n",
        "from torchvision import transforms\n",
        "import matplotlib.pyplot as plt\n",
        "import numpy as np "
      ],
      "id": "1uiflfa3DbKn",
      "execution_count": 4,
      "outputs": []
    },
    {
      "cell_type": "code",
      "metadata": {
        "id": "behind-wealth",
        "colab": {
          "base_uri": "https://localhost:8080/"
        },
        "outputId": "093d128b-8076-4662-b4ed-6b36a5b22518"
      },
      "source": [
        "!wget www.di.ens.fr/~lelarge/MNIST.tar.gz\n",
        "!tar -zxvf MNIST.tar.gz\n",
        "\n",
        "train_set = MNIST(\n",
        "    './', \n",
        "    download=True,\n",
        "    transform=transforms.ToTensor(), \n",
        "    train=True\n",
        ")\n",
        "\n",
        "test_set = MNIST(\n",
        "    './', \n",
        "    download=True,\n",
        "    transform=transforms.ToTensor(), \n",
        "    train=False\n",
        ")"
      ],
      "id": "behind-wealth",
      "execution_count": 5,
      "outputs": [
        {
          "output_type": "stream",
          "name": "stdout",
          "text": [
            "--2021-10-02 14:28:35--  http://www.di.ens.fr/~lelarge/MNIST.tar.gz\n",
            "Resolving www.di.ens.fr (www.di.ens.fr)... 129.199.99.14\n",
            "Connecting to www.di.ens.fr (www.di.ens.fr)|129.199.99.14|:80... connected.\n",
            "HTTP request sent, awaiting response... 302 Found\n",
            "Location: https://www.di.ens.fr/~lelarge/MNIST.tar.gz [following]\n",
            "--2021-10-02 14:28:35--  https://www.di.ens.fr/~lelarge/MNIST.tar.gz\n",
            "Connecting to www.di.ens.fr (www.di.ens.fr)|129.199.99.14|:443... connected.\n",
            "HTTP request sent, awaiting response... 200 OK\n",
            "Length: unspecified [application/x-gzip]\n",
            "Saving to: ‘MNIST.tar.gz.1’\n",
            "\n",
            "MNIST.tar.gz.1          [          <=>       ]  33.20M  16.5MB/s    in 2.0s    \n",
            "\n",
            "2021-10-02 14:28:38 (16.5 MB/s) - ‘MNIST.tar.gz.1’ saved [34813078]\n",
            "\n",
            "MNIST/\n",
            "MNIST/raw/\n",
            "MNIST/raw/train-labels-idx1-ubyte\n",
            "MNIST/raw/t10k-labels-idx1-ubyte.gz\n",
            "MNIST/raw/t10k-labels-idx1-ubyte\n",
            "MNIST/raw/t10k-images-idx3-ubyte.gz\n",
            "MNIST/raw/train-images-idx3-ubyte\n",
            "MNIST/raw/train-labels-idx1-ubyte.gz\n",
            "MNIST/raw/t10k-images-idx3-ubyte\n",
            "MNIST/raw/train-images-idx3-ubyte.gz\n",
            "MNIST/processed/\n",
            "MNIST/processed/training.pt\n",
            "MNIST/processed/test.pt\n"
          ]
        }
      ]
    },
    {
      "cell_type": "code",
      "metadata": {
        "id": "vertical-venice"
      },
      "source": [
        "device = torch.device('cuda' if torch.cuda.is_available() else 'cpu')\n",
        "train_loader = torch.utils.data.DataLoader(dataset=train_set, batch_size=128, shuffle=True)\n",
        "test_loader = torch.utils.data.DataLoader(dataset=test_set, batch_size=128, shuffle=False)"
      ],
      "id": "vertical-venice",
      "execution_count": 7,
      "outputs": []
    },
    {
      "cell_type": "code",
      "metadata": {
        "id": "OwUQXUuDEQ4t"
      },
      "source": [
        "class Generator(nn.Module):\n",
        "  def __init__(self):\n",
        "    super().__init__()\n",
        "    self.net = nn.Sequential(\n",
        "        nn.Conv2d(1, 48, kernel_size=3, stride=1, padding=1), nn.ReLU(),\n",
        "        nn.Conv2d(48, 48, kernel_size=3, stride=1, padding=1), nn.ReLU(),\n",
        "        nn.Conv2d(48, 48, kernel_size=3, stride=1, padding=1), nn.ReLU(),\n",
        "        nn.Conv2d(48, 48, kernel_size=3, stride=1, padding=1), nn.ReLU(),\n",
        "        nn.Conv2d(48, 48, kernel_size=3, stride=1, padding=1), nn.ReLU(),\n",
        "        nn.Conv2d(48, 48, kernel_size=3, stride=1, padding=1), nn.ReLU(),\n",
        "        nn.Conv2d(48, 1, kernel_size=1), nn.Tanh()\n",
        "        \n",
        "    )\n",
        "  def forward(self, x):\n",
        "    perturbation = self.net(x)\n",
        "    return perturbation"
      ],
      "id": "OwUQXUuDEQ4t",
      "execution_count": 8,
      "outputs": []
    },
    {
      "cell_type": "code",
      "metadata": {
        "id": "LJQc2XkDLa04"
      },
      "source": [
        "class Classifier(nn.Module):\n",
        "  def __init__(self):\n",
        "    super().__init__()\n",
        "    self.net = nn.Sequential(\n",
        "        nn.Conv2d(1, 48, kernel_size=3), nn.ReLU(),\n",
        "        nn.Conv2d(48, 48, kernel_size=3, stride=2, padding=1), nn.ReLU(),\n",
        "        nn.Conv2d(48, 96, kernel_size=3), nn.ReLU(),\n",
        "        nn.Conv2d(96, 96, kernel_size=3, stride=2, padding=1), nn.ReLU(),\n",
        "        nn.Conv2d(96, 96, kernel_size=3, stride=1, padding=1), nn.ReLU(),\n",
        "        nn.Conv2d(96, 96, kernel_size=1, stride=1, padding=1), nn.ReLU(),\n",
        "        nn.Conv2d(96, 10, kernel_size=1), \n",
        "        nn.AvgPool2d(kernel_size=8),\n",
        "    )\n",
        "  def forward(self, x):\n",
        "    logits = F.softmax(self.net(x), dim=1)\n",
        "    return logits.view(-1, 10)"
      ],
      "id": "LJQc2XkDLa04",
      "execution_count": 9,
      "outputs": []
    },
    {
      "cell_type": "code",
      "metadata": {
        "id": "3bC-zfNNJfTJ"
      },
      "source": [
        "# HYPERPARAMETERS\n",
        "epochs = 10\n",
        "epsilon = 0.1\n",
        "alpha = 0.5\n",
        "cg = 0.5\n",
        "k = 1\n",
        "generator = Generator().cuda()\n",
        "classifier = Classifier().cuda()\n",
        "# Standard (non-adversarial) training loop\n",
        "def train(device, train_loader):\n",
        "  generator_optimizer = torch.optim.Adam(generator.parameters(), lr=1e-6)\n",
        "  classifier_optimizer = torch.optim.Adam(classifier.parameters(), lr=1e-3)\n",
        "  loss = nn.CrossEntropyLoss()\n",
        "  for epoch in range(epochs):\n",
        "    for i, (x,y) in enumerate(train_loader):\n",
        "      x, y = x.to(device), y.to(device)\n",
        "\n",
        "      generator_optimizer.zero_grad()\n",
        "      perturbation = generator(x)\n",
        "      probs = F.softmax(classifier(x + perturbation), dim=1)\n",
        "      batch_loss = probs + cg * torch.norm(perturbation, p=2)\n",
        "      gen_loss = batch_loss.mean()\n",
        "      gen_loss.backward()\n",
        "      generator_optimizer.step()\n",
        "\n",
        "      \"\"\"try:\n",
        "        x, y = next(train_loader_iter)\n",
        "      except StopIteration:\n",
        "        train_loader_iter = iter(train_loader)\n",
        "        x, y = next(train_loader_iter)\n",
        "      x,y = x.to(device), y.to(device)\"\"\"\n",
        "      classifier_optimizer.zero_grad()\n",
        "      perturbation = generator(x)\n",
        "      classifier_loss = alpha * loss(classifier(x), y) + (1-alpha) * loss(classifier(x+perturbation), y)\n",
        "      classifier_loss.backward()\n",
        "      classifier_optimizer.step()      \n",
        "      if (i%100 == 0):\n",
        "        print('Epoch [{}/{}], Step [{}/{}], Generator_loss: {}, Classifier_loss: {}'.format(epoch+1, epochs, i+1, len(train_loader), gen_loss, classifier_loss))\n"
      ],
      "id": "3bC-zfNNJfTJ",
      "execution_count": 10,
      "outputs": []
    },
    {
      "cell_type": "code",
      "metadata": {
        "id": "nz0kOY4sJp58",
        "colab": {
          "base_uri": "https://localhost:8080/"
        },
        "outputId": "fc6e6ccd-dd2e-4f43-a93c-262e65cf0f31"
      },
      "source": [
        "train(device, train_loader) "
      ],
      "id": "nz0kOY4sJp58",
      "execution_count": 11,
      "outputs": [
        {
          "output_type": "stream",
          "name": "stdout",
          "text": [
            "Epoch [1/10], Step [1/469], Generator_loss: 7.152390956878662, Classifier_loss: 2.3023877143859863\n",
            "Epoch [1/10], Step [101/469], Generator_loss: 6.813683986663818, Classifier_loss: 2.2250518798828125\n",
            "Epoch [1/10], Step [201/469], Generator_loss: 6.471032619476318, Classifier_loss: 2.0742838382720947\n",
            "Epoch [1/10], Step [301/469], Generator_loss: 6.08203649520874, Classifier_loss: 2.0970022678375244\n",
            "Epoch [1/10], Step [401/469], Generator_loss: 5.608693599700928, Classifier_loss: 2.0012450218200684\n",
            "Epoch [2/10], Step [1/469], Generator_loss: 5.204819679260254, Classifier_loss: 1.7892394065856934\n",
            "Epoch [2/10], Step [101/469], Generator_loss: 4.474880218505859, Classifier_loss: 1.713665246963501\n",
            "Epoch [2/10], Step [201/469], Generator_loss: 3.7151544094085693, Classifier_loss: 1.7457740306854248\n",
            "Epoch [2/10], Step [301/469], Generator_loss: 3.020357131958008, Classifier_loss: 1.6237984895706177\n",
            "Epoch [2/10], Step [401/469], Generator_loss: 2.3968136310577393, Classifier_loss: 1.6529462337493896\n",
            "Epoch [3/10], Step [1/469], Generator_loss: 2.0606229305267334, Classifier_loss: 1.5884854793548584\n",
            "Epoch [3/10], Step [101/469], Generator_loss: 1.7875598669052124, Classifier_loss: 1.6258478164672852\n",
            "Epoch [3/10], Step [201/469], Generator_loss: 1.626247763633728, Classifier_loss: 1.6014823913574219\n",
            "Epoch [3/10], Step [301/469], Generator_loss: 1.5120179653167725, Classifier_loss: 1.6127811670303345\n",
            "Epoch [3/10], Step [401/469], Generator_loss: 1.3951367139816284, Classifier_loss: 1.5830177068710327\n",
            "Epoch [4/10], Step [1/469], Generator_loss: 1.323691487312317, Classifier_loss: 1.4931213855743408\n",
            "Epoch [4/10], Step [101/469], Generator_loss: 1.225079894065857, Classifier_loss: 1.485736608505249\n",
            "Epoch [4/10], Step [201/469], Generator_loss: 1.1393013000488281, Classifier_loss: 1.4994525909423828\n",
            "Epoch [4/10], Step [301/469], Generator_loss: 1.0626986026763916, Classifier_loss: 1.5831897258758545\n",
            "Epoch [4/10], Step [401/469], Generator_loss: 0.989232063293457, Classifier_loss: 1.5176703929901123\n",
            "Epoch [5/10], Step [1/469], Generator_loss: 0.9360309839248657, Classifier_loss: 1.5159862041473389\n",
            "Epoch [5/10], Step [101/469], Generator_loss: 0.8557116389274597, Classifier_loss: 1.492599368095398\n",
            "Epoch [5/10], Step [201/469], Generator_loss: 0.7752067446708679, Classifier_loss: 1.480358600616455\n",
            "Epoch [5/10], Step [301/469], Generator_loss: 0.7030174136161804, Classifier_loss: 1.5173530578613281\n",
            "Epoch [5/10], Step [401/469], Generator_loss: 0.6347818374633789, Classifier_loss: 1.5215500593185425\n",
            "Epoch [6/10], Step [1/469], Generator_loss: 0.588448703289032, Classifier_loss: 1.5229089260101318\n",
            "Epoch [6/10], Step [101/469], Generator_loss: 0.5262944102287292, Classifier_loss: 1.4714246988296509\n",
            "Epoch [6/10], Step [201/469], Generator_loss: 0.4725244641304016, Classifier_loss: 1.4917715787887573\n",
            "Epoch [6/10], Step [301/469], Generator_loss: 0.4258918762207031, Classifier_loss: 1.4949934482574463\n",
            "Epoch [6/10], Step [401/469], Generator_loss: 0.38802671432495117, Classifier_loss: 1.5032711029052734\n",
            "Epoch [7/10], Step [1/469], Generator_loss: 0.36673906445503235, Classifier_loss: 1.514122486114502\n",
            "Epoch [7/10], Step [101/469], Generator_loss: 0.34210148453712463, Classifier_loss: 1.4953930377960205\n",
            "Epoch [7/10], Step [201/469], Generator_loss: 0.3238131105899811, Classifier_loss: 1.5074975490570068\n",
            "Epoch [7/10], Step [301/469], Generator_loss: 0.310669481754303, Classifier_loss: 1.4850863218307495\n",
            "Epoch [7/10], Step [401/469], Generator_loss: 0.3004571497440338, Classifier_loss: 1.4895927906036377\n",
            "Epoch [8/10], Step [1/469], Generator_loss: 0.29474297165870667, Classifier_loss: 1.5039746761322021\n",
            "Epoch [8/10], Step [101/469], Generator_loss: 0.2879824638366699, Classifier_loss: 1.504326343536377\n",
            "Epoch [8/10], Step [201/469], Generator_loss: 0.28112202882766724, Classifier_loss: 1.489272952079773\n",
            "Epoch [8/10], Step [301/469], Generator_loss: 0.2750435769557953, Classifier_loss: 1.4718713760375977\n",
            "Epoch [8/10], Step [401/469], Generator_loss: 0.26861029863357544, Classifier_loss: 1.4865801334381104\n",
            "Epoch [9/10], Step [1/469], Generator_loss: 0.2634529769420624, Classifier_loss: 1.4698026180267334\n",
            "Epoch [9/10], Step [101/469], Generator_loss: 0.25653502345085144, Classifier_loss: 1.4653260707855225\n",
            "Epoch [9/10], Step [201/469], Generator_loss: 0.25000977516174316, Classifier_loss: 1.4696539640426636\n",
            "Epoch [9/10], Step [301/469], Generator_loss: 0.2437996119260788, Classifier_loss: 1.4837393760681152\n",
            "Epoch [9/10], Step [401/469], Generator_loss: 0.23755507171154022, Classifier_loss: 1.4741427898406982\n",
            "Epoch [10/10], Step [1/469], Generator_loss: 0.2336050570011139, Classifier_loss: 1.4791452884674072\n",
            "Epoch [10/10], Step [101/469], Generator_loss: 0.22732482850551605, Classifier_loss: 1.5012238025665283\n",
            "Epoch [10/10], Step [201/469], Generator_loss: 0.2212546169757843, Classifier_loss: 1.473240852355957\n",
            "Epoch [10/10], Step [301/469], Generator_loss: 0.21595244109630585, Classifier_loss: 1.468928575515747\n",
            "Epoch [10/10], Step [401/469], Generator_loss: 0.21079592406749725, Classifier_loss: 1.5218138694763184\n"
          ]
        }
      ]
    },
    {
      "cell_type": "code",
      "metadata": {
        "id": "2uEIlGkFOxtG",
        "colab": {
          "base_uri": "https://localhost:8080/",
          "height": 778
        },
        "outputId": "e9ca4756-9e25-4496-e8aa-aac02dee4f97"
      },
      "source": [
        "for x,y in test_loader:\n",
        "  x,y = x.to(device), y.to(device)\n",
        "  perturbation = generator(x)\n",
        "  image = (x + perturbation).detach().cpu().numpy()\n",
        "  original = x[0][0].cpu().numpy()\n",
        "  plt.imshow(image[0][0], cmap='gray')\n",
        "  plt.show()\n",
        "  plt.imshow(original, cmap='gray')\n",
        "  plt.show()\n",
        "  plt.imshow((image-original)[0][0])\n",
        "  plt.show()\n",
        "  print(np.linalg.norm((image-original)[0][0], ord=2))\n",
        "  break"
      ],
      "id": "2uEIlGkFOxtG",
      "execution_count": 12,
      "outputs": [
        {
          "output_type": "display_data",
          "data": {
            "image/png": "[encoded data removed]",
            "text/plain": [
              "<Figure size 432x288 with 1 Axes>"
            ]
          },
          "metadata": {
            "needs_background": "light"
          }
        },
        {
          "output_type": "display_data",
          "data": {
            "image/png": "[encoded data removed]",
            "text/plain": [
              "<Figure size 432x288 with 1 Axes>"
            ]
          },
          "metadata": {
            "needs_background": "light"
          }
        },
        {
          "output_type": "display_data",
          "data": {
            "image/png": "[encoded data removed]",
            "text/plain": [
              "<Figure size 432x288 with 1 Axes>"
            ]
          },
          "metadata": {
            "needs_background": "light"
          }
        },
        {
          "output_type": "stream",
          "name": "stdout",
          "text": [
            "0.016946662\n"
          ]
        }
      ]
    },
    {
      "cell_type": "code",
      "metadata": {
        "id": "cLxtK8wEX08j"
      },
      "source": [
        "class BaseClassifier(nn.Module):\n",
        "  def __init__(self):\n",
        "    super().__init__()\n",
        "    self.net = nn.Sequential(\n",
        "        nn.Conv2d(1, 48, kernel_size=3), nn.ReLU(),\n",
        "        nn.Conv2d(48, 48, kernel_size=3, stride=2, padding=1), nn.ReLU(),\n",
        "        nn.Conv2d(48, 96, kernel_size=3), nn.ReLU(),\n",
        "        nn.Conv2d(96, 96, kernel_size=3, stride=2, padding=1), nn.ReLU(),\n",
        "        nn.Conv2d(96, 96, kernel_size=3, stride=1, padding=1), nn.ReLU(),\n",
        "        nn.Conv2d(96, 96, kernel_size=1, stride=1, padding=1), nn.ReLU(),\n",
        "        nn.Conv2d(96, 10, kernel_size=1), \n",
        "        nn.AvgPool2d(kernel_size=8),\n",
        "    )\n",
        "  def forward(self, x):\n",
        "    logits = F.softmax(self.net(x), dim=1)\n",
        "    return logits.view(-1, 10)"
      ],
      "id": "cLxtK8wEX08j",
      "execution_count": 13,
      "outputs": []
    },
    {
      "cell_type": "code",
      "metadata": {
        "id": "xKXEqWcFazIX"
      },
      "source": [
        "baseClassifier = BaseClassifier().cuda()\n",
        "def train_base(device, train_loader):\n",
        "  classifier_optimizer = torch.optim.Adam(baseClassifier.parameters(), lr=1e-3)\n",
        "  loss = nn.CrossEntropyLoss()\n",
        "  for epoch in range(epochs):\n",
        "    for i, (x,y) in enumerate(train_loader):\n",
        "      x, y = x.to(device), y.to(device)\n",
        "      classifier_optimizer.zero_grad()\n",
        "      classifier_loss = loss(baseClassifier(x), y) \n",
        "      classifier_loss.backward()\n",
        "      classifier_optimizer.step()      \n",
        "      if (i%100 == 0):\n",
        "        print('Epoch [{}/{}], Step [{}/{}], Classifier_loss: {}'.format(epoch+1, epochs, i+1, len(train_loader), classifier_loss))\n"
      ],
      "id": "xKXEqWcFazIX",
      "execution_count": 21,
      "outputs": []
    },
    {
      "cell_type": "code",
      "metadata": {
        "id": "BVcQif8YcHzg",
        "outputId": "2e8a840b-2f8b-4fa6-813a-7301a5a515fc",
        "colab": {
          "base_uri": "https://localhost:8080/"
        }
      },
      "source": [
        "train_base(device, train_loader)"
      ],
      "id": "BVcQif8YcHzg",
      "execution_count": 22,
      "outputs": [
        {
          "output_type": "stream",
          "name": "stdout",
          "text": [
            "Epoch [1/10], Step [1/469], Classifier_loss: 2.3021018505096436\n",
            "Epoch [1/10], Step [101/469], Classifier_loss: 2.016310214996338\n",
            "Epoch [1/10], Step [201/469], Classifier_loss: 2.084836959838867\n",
            "Epoch [1/10], Step [301/469], Classifier_loss: 1.9202932119369507\n",
            "Epoch [1/10], Step [401/469], Classifier_loss: 1.9438130855560303\n",
            "Epoch [2/10], Step [1/469], Classifier_loss: 2.002037286758423\n",
            "Epoch [2/10], Step [101/469], Classifier_loss: 1.9903645515441895\n",
            "Epoch [2/10], Step [201/469], Classifier_loss: 1.9259456396102905\n",
            "Epoch [2/10], Step [301/469], Classifier_loss: 1.836113452911377\n",
            "Epoch [2/10], Step [401/469], Classifier_loss: 1.8242815732955933\n",
            "Epoch [3/10], Step [1/469], Classifier_loss: 1.850592851638794\n",
            "Epoch [3/10], Step [101/469], Classifier_loss: 1.8252578973770142\n",
            "Epoch [3/10], Step [201/469], Classifier_loss: 1.8615632057189941\n",
            "Epoch [3/10], Step [301/469], Classifier_loss: 1.8342620134353638\n",
            "Epoch [3/10], Step [401/469], Classifier_loss: 1.7241915464401245\n",
            "Epoch [4/10], Step [1/469], Classifier_loss: 1.8271490335464478\n",
            "Epoch [4/10], Step [101/469], Classifier_loss: 1.7574673891067505\n",
            "Epoch [4/10], Step [201/469], Classifier_loss: 1.7474403381347656\n",
            "Epoch [4/10], Step [301/469], Classifier_loss: 1.7865614891052246\n",
            "Epoch [4/10], Step [401/469], Classifier_loss: 1.672484278678894\n",
            "Epoch [5/10], Step [1/469], Classifier_loss: 1.6818642616271973\n",
            "Epoch [5/10], Step [101/469], Classifier_loss: 1.664484977722168\n",
            "Epoch [5/10], Step [201/469], Classifier_loss: 1.6624696254730225\n",
            "Epoch [5/10], Step [301/469], Classifier_loss: 1.6695024967193604\n",
            "Epoch [5/10], Step [401/469], Classifier_loss: 1.666835904121399\n",
            "Epoch [6/10], Step [1/469], Classifier_loss: 1.6487090587615967\n",
            "Epoch [6/10], Step [101/469], Classifier_loss: 1.6422077417373657\n",
            "Epoch [6/10], Step [201/469], Classifier_loss: 1.6621836423873901\n",
            "Epoch [6/10], Step [301/469], Classifier_loss: 1.6836382150650024\n",
            "Epoch [6/10], Step [401/469], Classifier_loss: 1.6233028173446655\n",
            "Epoch [7/10], Step [1/469], Classifier_loss: 1.7239229679107666\n",
            "Epoch [7/10], Step [101/469], Classifier_loss: 1.6853944063186646\n",
            "Epoch [7/10], Step [201/469], Classifier_loss: 1.6467400789260864\n",
            "Epoch [7/10], Step [301/469], Classifier_loss: 1.6634594202041626\n",
            "Epoch [7/10], Step [401/469], Classifier_loss: 1.683746337890625\n",
            "Epoch [8/10], Step [1/469], Classifier_loss: 1.6611547470092773\n",
            "Epoch [8/10], Step [101/469], Classifier_loss: 1.6921091079711914\n",
            "Epoch [8/10], Step [201/469], Classifier_loss: 1.738488793373108\n",
            "Epoch [8/10], Step [301/469], Classifier_loss: 1.668574333190918\n",
            "Epoch [8/10], Step [401/469], Classifier_loss: 1.6360399723052979\n",
            "Epoch [9/10], Step [1/469], Classifier_loss: 1.6585856676101685\n",
            "Epoch [9/10], Step [101/469], Classifier_loss: 1.6423945426940918\n",
            "Epoch [9/10], Step [201/469], Classifier_loss: 1.6684439182281494\n",
            "Epoch [9/10], Step [301/469], Classifier_loss: 1.7060238122940063\n",
            "Epoch [9/10], Step [401/469], Classifier_loss: 1.641737937927246\n",
            "Epoch [10/10], Step [1/469], Classifier_loss: 1.6136471033096313\n",
            "Epoch [10/10], Step [101/469], Classifier_loss: 1.5822993516921997\n",
            "Epoch [10/10], Step [201/469], Classifier_loss: 1.5842385292053223\n",
            "Epoch [10/10], Step [301/469], Classifier_loss: 1.548482894897461\n",
            "Epoch [10/10], Step [401/469], Classifier_loss: 1.6150031089782715\n"
          ]
        }
      ]
    },
    {
      "cell_type": "code",
      "metadata": {
        "id": "PLCllOEOdcVa"
      },
      "source": [
        "base_classifier_loss  = 0\n",
        "adv_classifier_loss = 0 \n",
        "loss = nn.CrossEntropyLoss()\n",
        "for x,y in test_loader:\n",
        "  x,y = x.to(device), y.to(device)\n",
        "  perturbation = generator(x)\n",
        "  perturbed_image = x + perturbation\n",
        "  base_classifier_loss += loss(baseClassifier(x), y)\n",
        "  adv_classifier_loss += loss(classifier(x), y)"
      ],
      "id": "PLCllOEOdcVa",
      "execution_count": 23,
      "outputs": []
    },
    {
      "cell_type": "code",
      "metadata": {
        "id": "IHAhdVzfeGKm",
        "outputId": "b028707d-4def-4c26-819f-6d0f41e56990",
        "colab": {
          "base_uri": "https://localhost:8080/"
        }
      },
      "source": [
        "print(\"Adversarial classifier loss: \", adv_classifier_loss.detach().cpu().numpy(), \"||| Base classifier loss: \", base_classifier_loss.detach().cpu().numpy())"
      ],
      "id": "IHAhdVzfeGKm",
      "execution_count": 27,
      "outputs": [
        {
          "output_type": "stream",
          "name": "stdout",
          "text": [
            "Adversarial classifier loss:  117.13299 ||| Base classifier loss:  124.39505\n"
          ]
        }
      ]
    },
    {
      "cell_type": "markdown",
      "metadata": {
        "id": "hbDHCKljev37"
      },
      "source": [
        "Now, let's take random samples from the test set and inspect their behavior under adversarial perturbations. "
      ],
      "id": "hbDHCKljev37"
    },
    {
      "cell_type": "code",
      "metadata": {
        "id": "3FPqtluze9vX",
        "outputId": "dd26267f-de5b-4c04-86bb-11d602699d9e",
        "colab": {
          "base_uri": "https://localhost:8080/",
          "height": 1000
        }
      },
      "source": [
        "#To see the adversarial examples, choose the index from [3, 10, 13, 18]\n",
        "i = 3\n",
        "for x, y in test_loader:\n",
        "  x,y = x.to(device), y.to(device)\n",
        "  perturbation = generator(x)\n",
        "  perturbed_image = x + perturbation\n",
        "  base_pred = baseClassifier(x)\n",
        "  adv_pred = classifier(x)\n",
        "\n",
        "  image = (perturbed_image).detach().cpu().numpy()\n",
        "  original = x[i][0].cpu().numpy()\n",
        "  plt.imshow(image[i][0], cmap='gray')\n",
        "  plt.show()\n",
        "  plt.imshow(original, cmap='gray')\n",
        "  plt.show()\n",
        "  plt.imshow((image-original)[i][0]) #perturbation visualization\n",
        "  plt.show()\n",
        "  print(np.linalg.norm((image-original)[i][0], ord=2))\n",
        "  print(torch.max(base_pred.data,1))\n",
        "  print(torch.max(adv_pred.data,1))\n",
        "  print(y)\n",
        "  break\n",
        "\n",
        "\n",
        "  i+=1\n"
      ],
      "id": "3FPqtluze9vX",
      "execution_count": 38,
      "outputs": [
        {
          "output_type": "display_data",
          "data": {
            "image/png": "[encoded data removed]",
            "text/plain": [
              "<Figure size 432x288 with 1 Axes>"
            ]
          },
          "metadata": {
            "needs_background": "light"
          }
        },
        {
          "output_type": "display_data",
          "data": {
            "image/png": "[encoded data removed]",
            "text/plain": [
              "<Figure size 432x288 with 1 Axes>"
            ]
          },
          "metadata": {
            "needs_background": "light"
          }
        },
        {
          "output_type": "display_data",
          "data": {
            "image/png": "[encoded data removed]",
            "text/plain": [
              "<Figure size 432x288 with 1 Axes>"
            ]
          },
          "metadata": {
            "needs_background": "light"
          }
        },
        {
          "output_type": "stream",
          "name": "stdout",
          "text": [
            "0.016742798\n",
            "torch.return_types.max(\n",
            "values=tensor([1.0000, 1.0000, 1.0000, 0.9995, 1.0000, 1.0000, 1.0000, 0.9730, 0.9996,\n",
            "        1.0000, 0.5961, 1.0000, 1.0000, 0.6279, 1.0000, 1.0000, 1.0000, 1.0000,\n",
            "        0.9925, 1.0000, 1.0000, 1.0000, 1.0000, 1.0000, 1.0000, 0.9987, 0.9999,\n",
            "        1.0000, 0.9889, 1.0000, 1.0000, 1.0000, 1.0000, 1.0000, 1.0000, 1.0000,\n",
            "        1.0000, 1.0000, 1.0000, 1.0000, 1.0000, 0.9999, 1.0000, 0.9996, 1.0000,\n",
            "        1.0000, 1.0000, 1.0000, 1.0000, 1.0000, 1.0000, 1.0000, 1.0000, 1.0000,\n",
            "        1.0000, 0.9795, 1.0000, 1.0000, 1.0000, 1.0000, 1.0000, 0.9997, 0.9215,\n",
            "        1.0000, 1.0000, 1.0000, 1.0000, 1.0000, 1.0000, 0.9997, 1.0000, 0.6931,\n",
            "        1.0000, 0.9999, 1.0000, 1.0000, 1.0000, 1.0000, 0.9999, 1.0000, 1.0000,\n",
            "        1.0000, 1.0000, 1.0000, 1.0000, 1.0000, 1.0000, 1.0000, 1.0000, 1.0000,\n",
            "        1.0000, 1.0000, 0.9998, 1.0000, 1.0000, 0.9999, 0.9999, 1.0000, 1.0000,\n",
            "        1.0000, 1.0000, 0.9071, 1.0000, 1.0000, 1.0000, 1.0000, 1.0000, 0.9993,\n",
            "        1.0000, 1.0000, 1.0000, 1.0000, 1.0000, 1.0000, 1.0000, 0.9302, 1.0000,\n",
            "        1.0000, 1.0000, 1.0000, 1.0000, 0.9961, 1.0000, 1.0000, 1.0000, 1.0000,\n",
            "        0.9948, 1.0000], device='cuda:0'),\n",
            "indices=tensor([7, 2, 1, 6, 4, 1, 4, 9, 5, 9, 8, 6, 9, 8, 1, 5, 9, 7, 5, 4, 9, 6, 6, 5,\n",
            "        4, 6, 7, 4, 8, 1, 3, 1, 3, 4, 7, 2, 7, 1, 2, 1, 1, 7, 4, 2, 3, 5, 1, 2,\n",
            "        4, 4, 6, 3, 5, 5, 6, 8, 4, 1, 9, 5, 7, 8, 9, 3, 7, 4, 6, 4, 3, 5, 7, 8,\n",
            "        2, 9, 1, 7, 3, 2, 9, 7, 7, 6, 2, 7, 8, 4, 7, 3, 6, 1, 3, 6, 9, 3, 1, 4,\n",
            "        1, 7, 6, 9, 6, 6, 5, 4, 9, 9, 2, 1, 9, 4, 8, 7, 3, 9, 7, 9, 4, 4, 9, 2,\n",
            "        5, 4, 7, 6, 7, 9, 5, 5], device='cuda:0'))\n",
            "torch.return_types.max(\n",
            "values=tensor([1.0000, 1.0000, 1.0000, 1.0000, 1.0000, 1.0000, 1.0000, 1.0000, 1.0000,\n",
            "        1.0000, 1.0000, 1.0000, 1.0000, 1.0000, 1.0000, 1.0000, 1.0000, 1.0000,\n",
            "        0.9979, 1.0000, 1.0000, 1.0000, 1.0000, 1.0000, 1.0000, 1.0000, 1.0000,\n",
            "        1.0000, 1.0000, 1.0000, 1.0000, 1.0000, 1.0000, 1.0000, 1.0000, 1.0000,\n",
            "        1.0000, 1.0000, 1.0000, 1.0000, 1.0000, 1.0000, 1.0000, 1.0000, 1.0000,\n",
            "        1.0000, 1.0000, 1.0000, 1.0000, 1.0000, 1.0000, 1.0000, 1.0000, 1.0000,\n",
            "        1.0000, 1.0000, 1.0000, 1.0000, 1.0000, 1.0000, 1.0000, 1.0000, 0.9742,\n",
            "        1.0000, 1.0000, 1.0000, 0.9963, 1.0000, 1.0000, 1.0000, 1.0000, 1.0000,\n",
            "        1.0000, 0.9985, 1.0000, 1.0000, 1.0000, 1.0000, 0.9999, 1.0000, 1.0000,\n",
            "        1.0000, 1.0000, 1.0000, 1.0000, 1.0000, 1.0000, 1.0000, 1.0000, 1.0000,\n",
            "        1.0000, 1.0000, 1.0000, 1.0000, 1.0000, 0.9816, 0.9935, 1.0000, 1.0000,\n",
            "        1.0000, 1.0000, 1.0000, 1.0000, 1.0000, 0.9891, 1.0000, 1.0000, 1.0000,\n",
            "        1.0000, 1.0000, 1.0000, 1.0000, 1.0000, 1.0000, 1.0000, 0.9999, 1.0000,\n",
            "        1.0000, 1.0000, 1.0000, 1.0000, 0.9994, 1.0000, 1.0000, 1.0000, 1.0000,\n",
            "        1.0000, 1.0000], device='cuda:0'),\n",
            "indices=tensor([7, 2, 1, 0, 4, 1, 4, 9, 5, 9, 0, 6, 9, 0, 1, 5, 9, 7, 3, 4, 9, 6, 6, 5,\n",
            "        4, 0, 7, 4, 0, 1, 3, 1, 3, 4, 7, 2, 7, 1, 2, 1, 1, 7, 4, 2, 3, 5, 1, 2,\n",
            "        4, 4, 6, 3, 5, 5, 6, 0, 4, 1, 9, 5, 7, 8, 9, 3, 7, 4, 0, 4, 3, 0, 7, 0,\n",
            "        2, 9, 1, 7, 3, 2, 9, 7, 7, 6, 2, 7, 8, 4, 7, 3, 6, 1, 3, 6, 9, 3, 1, 4,\n",
            "        1, 7, 6, 9, 6, 0, 5, 4, 9, 9, 2, 1, 9, 4, 8, 7, 3, 9, 7, 9, 4, 4, 9, 2,\n",
            "        5, 4, 7, 6, 7, 9, 0, 5], device='cuda:0'))\n",
            "tensor([7, 2, 1, 0, 4, 1, 4, 9, 5, 9, 0, 6, 9, 0, 1, 5, 9, 7, 3, 4, 9, 6, 6, 5,\n",
            "        4, 0, 7, 4, 0, 1, 3, 1, 3, 4, 7, 2, 7, 1, 2, 1, 1, 7, 4, 2, 3, 5, 1, 2,\n",
            "        4, 4, 6, 3, 5, 5, 6, 0, 4, 1, 9, 5, 7, 8, 9, 3, 7, 4, 6, 4, 3, 0, 7, 0,\n",
            "        2, 9, 1, 7, 3, 2, 9, 7, 7, 6, 2, 7, 8, 4, 7, 3, 6, 1, 3, 6, 9, 3, 1, 4,\n",
            "        1, 7, 6, 9, 6, 0, 5, 4, 9, 9, 2, 1, 9, 4, 8, 7, 3, 9, 7, 4, 4, 4, 9, 2,\n",
            "        5, 4, 7, 6, 7, 9, 0, 5], device='cuda:0')\n"
          ]
        }
      ]
    }
  ]
}